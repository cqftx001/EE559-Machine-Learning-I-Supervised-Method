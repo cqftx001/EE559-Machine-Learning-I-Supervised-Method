{
 "cells": [
  {
   "cell_type": "markdown",
   "metadata": {},
   "source": [
    "HW6\n",
    "Name:Qifan Chen\n",
    "USCID:9166932624\n"
   ]
  },
  {
   "cell_type": "markdown",
   "source": [
    "Programming Part: Multi-class and Multi-Label Classification Using Sup-\n",
    "port Vector Machines"
   ],
   "metadata": {
    "collapsed": false
   }
  },
  {
   "cell_type": "code",
   "execution_count": 164,
   "metadata": {},
   "outputs": [],
   "source": [
    "import numpy as np\n",
    "import pandas as pd\n",
    "from sklearn.svm import SVC\n",
    "from sklearn.svm import LinearSVC\n",
    "from sklearn import preprocessing\n",
    "from sklearn.model_selection import cross_val_score\n",
    "from sklearn.model_selection import StratifiedKFold\n",
    "from sklearn.model_selection import train_test_split\n",
    "from imblearn.over_sampling import SMOTE\n",
    "from collections import Counter\n",
    "import warnings\n",
    "warnings.filterwarnings('ignore')\n",
    "warnings.simplefilter('ignore')"
   ]
  },
  {
   "cell_type": "markdown",
   "metadata": {},
   "source": [
    "(a)Download the Anuran Calls (MFCCs) Data Set"
   ]
  },
  {
   "cell_type": "code",
   "execution_count": 41,
   "metadata": {},
   "outputs": [
    {
     "data": {
      "text/plain": [
       "((5036, 22), (2159, 22), (5036, 3), (2159, 3))"
      ]
     },
     "execution_count": 41,
     "metadata": {},
     "output_type": "execute_result"
    }
   ],
   "source": [
    "data_path = \"../data/Frogs_MFCCs.csv\"\n",
    "df = pd.read_csv(data_path)\n",
    "X = df.iloc[:, 0:22]\n",
    "y = df.iloc[:, 22:-1]\n",
    "X_train, X_test, y_train, y_test = train_test_split(X, y, train_size=0.7, random_state=1)\n",
    "\n",
    "enc = preprocessing.OrdinalEncoder().fit(y)\n",
    "y_train = enc.transform(y_train)\n",
    "y_test = enc.transform(y_test)\n",
    "\n",
    "X_train.shape, X_test.shape, y_train.shape, y_test.shape\n"
   ]
  },
  {
   "cell_type": "markdown",
   "metadata": {},
   "source": [
    "(b)Each instance has three labels: Families, Genus, and Species.\n",
    "    i.Research exact match and hamming score/ loss methods for evaluating multi-\n",
    "       label classification and use them in evaluating the classifiers in this problem."
   ]
  },
  {
   "cell_type": "code",
   "execution_count": 32,
   "metadata": {},
   "outputs": [],
   "source": [
    "def exact_match(y_true, y_pred):\n",
    "\n",
    "    mach = np.all(y_true==y_pred, axis=1) # match result for each samples\n",
    "    return np.count_nonzero(mach)/y_true.shape[0]\n",
    "\n",
    "def hamming_score(y_true, y_pred):\n",
    "\n",
    "    d = y_true.shape[0]*y_true.shape[1]\n",
    "    return np.count_nonzero(y_true==y_pred) / d"
   ]
  },
  {
   "cell_type": "code",
   "execution_count": 45,
   "metadata": {},
   "outputs": [
    {
     "name": "stdout",
     "output_type": "stream",
     "text": [
      "0.3333333333333333 0.3333333333333333\n",
      "0.7777777777777778 0.7777777777777778\n",
      "1.0 1.0\n",
      "1.0 1.0\n"
     ]
    }
   ],
   "source": [
    "# Example1\n",
    "a = np.array([[1, 2, 3], [0, 1, 1], [1, 3, 1]])\n",
    "b = np.array([[1, 2, 0], [0, 1, 2], [1, 3, 1]])\n",
    "print(exact_match(a, b), 1/3) # 1 / 3\n",
    "print(hamming_score(a, b), 7/9) # 7 / 9\n",
    "\n",
    "# Example2\n",
    "print(exact_match(y_train,y_train), 1.0)\n",
    "print(hamming_score(y_train,y_train), 1.0)"
   ]
  },
  {
   "cell_type": "markdown",
   "source": [
    " ii.Train a SVM for each of the labels, using Gaussian kernels and one versus all\n",
    "    classifier"
   ],
   "metadata": {
    "collapsed": false
   }
  },
  {
   "cell_type": "code",
   "execution_count": 97,
   "metadata": {},
   "outputs": [],
   "source": [
    "def find_Cg(X_, y_):\n",
    "    '''find the best C and gamma\n",
    "    '''\n",
    "    log_Cs = np.arange(-1.0, 3.0)\n",
    "    Gs = np.arange(1.5, 4.5, 0.1) # gamma list\n",
    "    max_score = 0\n",
    "    for g in Gs:\n",
    "        for C in log_Cs:\n",
    "            svc = SVC(C=10**C, gamma=g)\n",
    "            cv = StratifiedKFold(n_splits=10, shuffle=True, random_state=1)\n",
    "            scores = cross_val_score(svc, X_, y_, scoring='accuracy', cv=cv, n_jobs=-1)\n",
    "            if np.mean(scores) > max_score:\n",
    "                C_res = C\n",
    "                g_res = g\n",
    "                max_score = np.mean(scores)\n",
    "    return (C_res, g_res)"
   ]
  },
  {
   "cell_type": "code",
   "execution_count": 98,
   "metadata": {},
   "outputs": [],
   "source": [
    "X_ = X_train[:]\n",
    "para_res = []\n",
    "svc_list = []\n",
    "for i in range(3):\n",
    "    y_ = y_train[:, i]\n",
    "    res = find_Cg(X_, y_)\n",
    "    svc = SVC(C=10**res[0], gamma=res[1]).fit(X_, y_)\n",
    "    svc_list.append(svc)\n",
    "    para_res.append(res)"
   ]
  },
  {
   "cell_type": "code",
   "execution_count": 105,
   "metadata": {},
   "outputs": [
    {
     "name": "stdout",
     "output_type": "stream",
     "text": [
      "Exact match score of training is 100.00%\n",
      "Hamming score of training is 100.00%\n",
      "Exact match score of test is 98.66%\n",
      "Hamming score of test is 99.03%\n"
     ]
    }
   ],
   "source": [
    "y_pred_train = np.array([svc_list[i].predict(X_train) for i in range(3)]).T\n",
    "print(f\"Exact match score of training is {exact_match(y_train, y_pred_train)*100:.2f}%\")\n",
    "print(f\"Hamming score of training is {hamming_score(y_train, y_pred_train)*100:.2f}%\")\n",
    "\n",
    "y_pred_test = np.array([svc_list[i].predict(X_test) for i in range(3)]).T\n",
    "print(f\"Exact match score of test is {exact_match(y_test, y_pred_test)*100:.2f}%\")\n",
    "print(f\"Hamming score of test is {hamming_score(y_test, y_pred_test)*100:.2f}%\")"
   ]
  },
  {
   "cell_type": "markdown",
   "source": [
    " iii. Repeat 6(b)ii with L1-penalized SVMs. Remember to normalize the attributes."
   ],
   "metadata": {
    "collapsed": false
   }
  },
  {
   "cell_type": "code",
   "execution_count": 190,
   "metadata": {},
   "outputs": [],
   "source": [
    "def find_C_L1(X_, y_):\n",
    "    '''find the best C for L1-penalized svm\n",
    "    '''\n",
    "    log_Cs = np.arange(-1.0, 9.0)\n",
    "    max_score = 0\n",
    "    for C in log_Cs:\n",
    "        svc_L1 = LinearSVC(penalty='l1', C=10**C, dual=False, max_iter=100)\n",
    "        cv = StratifiedKFold(n_splits=10, shuffle=True, random_state=1)\n",
    "        scores = cross_val_score(svc_L1, X_, y_, scoring='accuracy', \n",
    "        cv=cv, n_jobs=1)\n",
    "        if np.mean(scores) > max_score:\n",
    "            C_res = C\n",
    "            max_score = np.mean(scores)\n",
    "    return C_res"
   ]
  },
  {
   "cell_type": "code",
   "execution_count": 191,
   "metadata": {},
   "outputs": [],
   "source": [
    "X_ = X_train[:]\n",
    "para_L1_res = []\n",
    "svc_L1_list = []\n",
    "for i in range(3):\n",
    "    y_ = y_train[:, i]\n",
    "    res = find_C_L1(X_, y_)\n",
    "    svc_L1 = LinearSVC(penalty='l1', C=10**res, dual=False).fit(X_, y_)\n",
    "    svc_L1_list.append(svc_L1)\n",
    "    para_L1_res.append(res)"
   ]
  },
  {
   "cell_type": "code",
   "execution_count": 192,
   "metadata": {},
   "outputs": [
    {
     "data": {
      "text/plain": [
       "[7.0, 2.0, 1.0]"
      ]
     },
     "execution_count": 192,
     "metadata": {},
     "output_type": "execute_result"
    }
   ],
   "source": [
    "para_L1_res"
   ]
  },
  {
   "cell_type": "code",
   "execution_count": 195,
   "metadata": {},
   "outputs": [
    {
     "name": "stdout",
     "output_type": "stream",
     "text": [
      "L1 penalized SVM:\n",
      "Exact match score of training is 92.36%\n",
      "Hamming score of training is 95.39%\n",
      "Exact match score of test is 91.20%\n",
      "Hamming score of test is 94.46%\n"
     ]
    }
   ],
   "source": [
    "print(\"L1 penalized SVM:\")\n",
    "y_pred_train = np.array([svc_L1_list[i].predict(X_train) for i in range(3)]).T\n",
    "print(f\"Exact match score of training is {exact_match(y_train, y_pred_train)*100:.2f}%\")\n",
    "print(f\"Hamming score of training is {hamming_score(y_train, y_pred_train)*100:.2f}%\")\n",
    "\n",
    "y_pred_test = np.array([svc_L1_list[i].predict(X_test) for i in range(3)]).T\n",
    "print(f\"Exact match score of test is {exact_match(y_test, y_pred_test)*100:.2f}%\")\n",
    "print(f\"Hamming score of test is {hamming_score(y_test, y_pred_test)*100:.2f}%\")"
   ]
  },
  {
   "cell_type": "markdown",
   "metadata": {},
   "source": [
    "iv. Repeat 6(b)iii by using SMOTE or any other method you know to remedy\n",
    "class imbalance. Report your conclusions about the classifiers you trained."
   ]
  },
  {
   "cell_type": "code",
   "execution_count": 197,
   "metadata": {},
   "outputs": [
    {
     "name": "stdout",
     "output_type": "stream",
     "text": [
      "Original data :  Counter({3.0: 3092, 2.0: 1509, 1.0: 387, 0.0: 48})\n",
      "Original data :  Counter({0.0: 2891, 3.0: 1111, 1.0: 387, 2.0: 209, 4.0: 201, 7.0: 109, 5.0: 80, 6.0: 48})\n",
      "Original data :  Counter({1.0: 2404, 5.0: 777, 0.0: 487, 2.0: 387, 4.0: 334, 3.0: 209, 6.0: 201, 9.0: 109, 7.0: 80, 8.0: 48})\n"
     ]
    }
   ],
   "source": [
    "print(\"Original data : \", Counter(y_train[:, 0]))\n",
    "print(\"Original data : \", Counter(y_train[:, 1]))\n",
    "print(\"Original data : \", Counter(y_train[:, 2]))"
   ]
  },
  {
   "cell_type": "code",
   "execution_count": 206,
   "metadata": {},
   "outputs": [],
   "source": [
    "ss = {3.0: 3092, 2.0: 1509, 1.0: 1000, 0.0: 500}\n",
    "sm = SMOTE(sampling_strategy=ss, random_state=42, k_neighbors=5)\n",
    "X_train_sm0, y_train_sm0 = sm.fit_resample(X_train, y_train[:, 0])\n",
    "\n",
    "ss = {0.0: 2891, 3.0: 1111, 1.0: 800, 2.0: 800,\n",
    "      4.0: 800, 7.0: 600, 5.0: 500, 6.0: 500}\n",
    "sm = SMOTE(sampling_strategy=ss, random_state=42, k_neighbors=5)\n",
    "X_train_sm1, y_train_sm1 = sm.fit_resample(X_train, y_train[:, 1])\n",
    "\n",
    "ss = {1.0: 2404, 5.0: 1000, 0.0: 1000, 2.0: 900, 4.0: 900,\n",
    "      3.0: 800, 6.0: 799, 9.0: 600, 7.0: 500, 8.0: 500}\n",
    "sm = SMOTE(sampling_strategy=ss, random_state=42, k_neighbors=5)\n",
    "X_train_sm2, y_train_sm2 = sm.fit_resample(X_train, y_train[:, 2])\n",
    "\n",
    "X_train_sms = [X_train_sm0, X_train_sm1, X_train_sm2]\n",
    "y_train_sms = [y_train_sm0, y_train_sm1, y_train_sm2]"
   ]
  },
  {
   "cell_type": "code",
   "execution_count": 207,
   "metadata": {},
   "outputs": [],
   "source": [
    "para_sm_res = []\n",
    "svc_sm_list = []\n",
    "for i in range(3):\n",
    "    X_ = X_train_sms[i]\n",
    "    y_ = y_train_sms[i]\n",
    "    res = find_C_L1(X_, y_)\n",
    "    svc_sm = LinearSVC(penalty='l1', C=10**res, dual=False).fit(X_, y_)\n",
    "    svc_sm_list.append(svc_sm)\n",
    "    para_sm_res.append(res)"
   ]
  },
  {
   "cell_type": "code",
   "execution_count": 209,
   "metadata": {},
   "outputs": [
    {
     "name": "stdout",
     "output_type": "stream",
     "text": [
      "L1 penalized SVM with smote:\n",
      "Exact match score of training is 91.74%\n",
      "Hamming score of training is 95.39%\n",
      "Exact match score of test is 91.20%\n",
      "Hamming score of test is 94.72%\n"
     ]
    }
   ],
   "source": [
    "print(\"L1 penalized SVM with smote:\")\n",
    "y_pred_train = np.array([svc_sm_list[i].predict(X_train) for i in range(3)]).T\n",
    "print(f\"Exact match score of training is {exact_match(y_train, y_pred_train)*100:.2f}%\")\n",
    "print(f\"Hamming score of training is {hamming_score(y_train, y_pred_train)*100:.2f}%\")\n",
    "\n",
    "y_pred_test = np.array([svc_sm_list[i].predict(X_test) for i in range(3)]).T\n",
    "print(f\"Exact match score of test is {exact_match(y_test, y_pred_test)*100:.2f}%\")\n",
    "print(f\"Hamming score of test is {hamming_score(y_test, y_pred_test)*100:.2f}%\")"
   ]
  }
 ],
 "metadata": {
  "kernelspec": {
   "display_name": "Python 3.9.12 ('torchenv')",
   "language": "python",
   "name": "python3"
  },
  "language_info": {
   "codemirror_mode": {
    "name": "ipython",
    "version": 3
   },
   "file_extension": ".py",
   "mimetype": "text/x-python",
   "name": "python",
   "nbconvert_exporter": "python",
   "pygments_lexer": "ipython3",
   "version": "3.9.12"
  },
  "orig_nbformat": 4,
  "vscode": {
   "interpreter": {
    "hash": "c71e970b376e5910de56d332af36cb508b823811ace826c2f1193ceeb2dcc3e7"
   }
  }
 },
 "nbformat": 4,
 "nbformat_minor": 2
}
