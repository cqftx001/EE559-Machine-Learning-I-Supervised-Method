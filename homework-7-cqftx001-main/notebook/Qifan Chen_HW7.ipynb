{
 "cells": [
  {
   "cell_type": "markdown",
   "metadata": {},
   "source": [
    "Qifanc@usc.edu\n",
    "Qifan Chen\n",
    "9166932624"
   ]
  },
  {
   "cell_type": "code",
   "execution_count": 119,
   "metadata": {},
   "outputs": [],
   "source": [
    "import numpy as np\n",
    "import pandas as pd\n",
    "from metric_learn import MLKR\n",
    "from sklearn.preprocessing import StandardScaler\n",
    "from sklearn.model_selection import cross_val_score\n",
    "from sklearn.model_selection import KFold\n",
    "from sklearn.model_selection import train_test_split\n",
    "from sklearn.pipeline import Pipeline\n",
    "from sklearn.feature_selection import SequentialFeatureSelector\n",
    "from scipy.special import logsumexp\n",
    "from sklearn.metrics import r2_score\n",
    "from sklearn.neural_network import MLPRegressor"
   ]
  },
  {
   "cell_type": "markdown",
   "metadata": {},
   "source": [
    "(a) Choose 70% of the data randomly as the training set."
   ]
  },
  {
   "cell_type": "code",
   "execution_count": 93,
   "metadata": {},
   "outputs": [
    {
     "data": {
      "text/plain": [
       "((4112, 19), (1763, 19), (4112, 2), (1763, 2))"
      ]
     },
     "execution_count": 93,
     "metadata": {},
     "output_type": "execute_result"
    }
   ],
   "source": [
    "data_path = \"../data/parkinsons_updrs.data\"\n",
    "df = pd.read_csv(data_path).drop(columns=['subject#'])\n",
    "X = df[:].drop(columns=['motor_UPDRS', 'total_UPDRS'])\n",
    "y = df[['motor_UPDRS', 'total_UPDRS']]\n",
    "X_train, X_test, y_train, y_test = train_test_split(X, y, train_size=0.7,\n",
    "                                                    random_state=1)\n",
    "X_train.shape, X_test.shape, y_train.shape, y_test.shape"
   ]
  },
  {
   "cell_type": "code",
   "execution_count": 94,
   "metadata": {},
   "outputs": [],
   "source": [
    "scaler = StandardScaler().fit(X_train)\n",
    "X_train_sd = scaler.transform(X_train)\n",
    "y_train = np.array(y_train)\n",
    "X_test_sd = scaler.transform(X_test)\n",
    "y_test = np.array(y_test)"
   ]
  },
  {
   "cell_type": "markdown",
   "metadata": {},
   "source": [
    "(b) Use metric learning with Gaussian kernels to estimate each of the outputs motor UPDRS and total UPDRS from the features. "
   ]
  },
  {
   "cell_type": "code",
   "execution_count": 57,
   "metadata": {},
   "outputs": [],
   "source": [
    "class MLKR_P(MLKR):\n",
    "    '''subclass of MLKR implementing predict() function\n",
    "    '''\n",
    "    def __init__(self, n_components=None, init='auto',verbose=False,\n",
    "               max_iter=1000, random_state=None):\n",
    "        super(MLKR_P, self).__init__(n_components=n_components, init=init,\n",
    "            verbose=verbose, max_iter=max_iter, random_state=random_state)\n",
    "        self.X_transform = None\n",
    "        self.y_ = None\n",
    "\n",
    "    def fit(self, X, y):\n",
    "        super(MLKR_P, self).fit(X, y)\n",
    "        self.X_transform = super(MLKR_P, self).transform(X)\n",
    "        self.y_ = y\n",
    "\n",
    "        return self\n",
    "\n",
    "    def predict(self, X):\n",
    "        X_embedded = super(MLKR_P, self).transform(X)\n",
    "        dist = self.get_dist(X_embedded)\n",
    "        softmax = np.exp(- dist - logsumexp(- dist, axis=1)[:, np.newaxis])\n",
    "        yhat = softmax.dot(self.y_)\n",
    "\n",
    "        return yhat\n",
    "\n",
    "    def get_dist(self, X_embedded):\n",
    "        n_pre_samples = X_embedded.shape[0]\n",
    "        n_train_samples = self.X_transform.shape[0]\n",
    "        dist = np.empty((n_pre_samples, n_train_samples))\n",
    "        for i in range(n_pre_samples):\n",
    "            dist[i] = np.square(self.X_transform - X_embedded[i]).sum(axis=1)\n",
    "\n",
    "        return dist\n"
   ]
  },
  {
   "cell_type": "code",
   "execution_count": 43,
   "metadata": {},
   "outputs": [],
   "source": [
    "# Below code will spend over 30 minutes\n",
    "# I will not run again\n",
    "p = len(X_train.columns)\n",
    "M = [5, 10, 15, p]\n",
    "cv = KFold(n_splits=5, shuffle=True, random_state=1)\n",
    "score0 = []\n",
    "score1 = []\n",
    "for m in M:\n",
    "    mlkr = MLKR_P(n_components=m, init='pca')\n",
    "    cvs = cross_val_score(mlkr, X_train_sd, y_train[:, 0], cv=cv,\n",
    "                          scoring='neg_mean_squared_error', n_jobs=-1)\n",
    "    score0.append(np.mean(cvs))\n",
    "    cvs = cross_val_score(mlkr, X_train_sd, y_train[:, 1], cv=cv,\n",
    "                          scoring='neg_mean_squared_error', n_jobs=-1)\n",
    "    score1.append(np.mean(cvs))\n",
    "\n",
    "max_n0 = M[np.argmax(score0)]\n",
    "max_n1 = M[np.argmax(score1)]"
   ]
  },
  {
   "cell_type": "code",
   "execution_count": 53,
   "metadata": {},
   "outputs": [
    {
     "name": "stdout",
     "output_type": "stream",
     "text": [
      "Best number of components form for motor_UPDRS is 5\n",
      "Best number of components form for total_UPDRS is 15\n"
     ]
    }
   ],
   "source": [
    "# Here is the result of max_n0, max_n1\n",
    "print(\"Best number of components form for motor_UPDRS is\", 5)\n",
    "print(\"Best number of components form for total_UPDRS is\", 15)"
   ]
  },
  {
   "cell_type": "code",
   "execution_count": 120,
   "metadata": {},
   "outputs": [
    {
     "name": "stdout",
     "output_type": "stream",
     "text": [
      "Results for motor_UPDRS:\n",
      "Training R2 : 0.9998441778740059\n",
      "Test R2 : 0.9766675987194592\n"
     ]
    }
   ],
   "source": [
    "# motor_UPDRS\n",
    "# Here code runs for 15 minutes\n",
    "print(\"Results for motor_UPDRS:\")\n",
    "mlkr0_final = MLKR_P(n_components=5, init='pca')\n",
    "mlkr0_final.fit(X_train_sd, y_train[:,0])\n",
    "y_train_pred0 = mlkr0_final.predict(X_train_sd)\n",
    "print(\"Training R2 :\", r2_score(y_train[:, 0], y_train_pred0))\n",
    "y_test_pred0 = mlkr0_final.predict(X_test_sd)\n",
    "print(\"Test R2 :\",r2_score(y_test[:, 0], y_test_pred0))"
   ]
  },
  {
   "cell_type": "code",
   "execution_count": 121,
   "metadata": {},
   "outputs": [
    {
     "name": "stdout",
     "output_type": "stream",
     "text": [
      "Results for total_UPDRS:\n",
      "Training R2 : 0.999999994234005\n",
      "Test R2 : 0.9797613186757309\n"
     ]
    }
   ],
   "source": [
    "# total_UPDRS\n",
    "# Here code runs for 15 minutes\n",
    "print(\"Results for total_UPDRS:\")\n",
    "mlkr1_final = MLKR_P(n_components=15, init='pca')\n",
    "mlkr1_final.fit(X_train_sd, y_train[:,1])\n",
    "y_train_pred1 = mlkr1_final.predict(X_train_sd)\n",
    "print(\"Training R2 :\", r2_score(y_train[:, 1], y_train_pred1))\n",
    "y_test_pred1 = mlkr1_final.predict(X_test_sd)\n",
    "print(\"Test R2 :\",r2_score(y_test[:, 1], y_test_pred1))"
   ]
  },
  {
   "cell_type": "markdown",
   "metadata": {},
   "source": [
    "(c) Use sklearn’s neural network implementation to train a neural network with two outputs that predicts motor UPDRS and total UPDRS. U"
   ]
  },
  {
   "cell_type": "code",
   "execution_count": 97,
   "metadata": {},
   "outputs": [],
   "source": [
    "regr = MLPRegressor(hidden_layer_sizes=100, activation='relu',\n",
    "                    solver='adam', batch_size=200, alpha=0.0001,\n",
    "                    learning_rate='constant', learning_rate_init=0.001,\n",
    "                    random_state=2, max_iter=2000, verbose=False, \n",
    "                    n_iter_no_change=15, early_stopping=False, tol=1e-5)\n",
    "regr.fit(X_train_sd, y_train);"
   ]
  },
  {
   "cell_type": "code",
   "execution_count": 98,
   "metadata": {},
   "outputs": [
    {
     "name": "stdout",
     "output_type": "stream",
     "text": [
      "Results for motor_UPDRS:\n",
      "Training R2 : 0.7953321040706718\n",
      "Test R2 : 0.6976605014174815\n"
     ]
    }
   ],
   "source": [
    "# motor_UPDRS\n",
    "print(\"Results for motor_UPDRS:\")\n",
    "y_train_pred0 = regr.predict(X_train_sd)[:, 0]\n",
    "print(\"Training R2 :\", r2_score(y_train[:, 0], y_train_pred0))\n",
    "y_test_pred0 = regr.predict(X_test_sd)[:, 0]\n",
    "print(\"Test R2 :\",r2_score(y_test[:, 0], y_test_pred0))"
   ]
  },
  {
   "cell_type": "code",
   "execution_count": 99,
   "metadata": {},
   "outputs": [
    {
     "name": "stdout",
     "output_type": "stream",
     "text": [
      "Results for total_UPDRS:\n",
      "Training R2 : 0.8052774399767753\n",
      "Test R2 : 0.6999590238328346\n"
     ]
    }
   ],
   "source": [
    "# total_UPDRS\n",
    "print(\"Results for total_UPDRS:\")\n",
    "y_train_pred1 = regr.predict(X_train_sd)[:, 1]\n",
    "print(\"Training R2 :\", r2_score(y_train[:, 1], y_train_pred1))\n",
    "y_test_pred1 = regr.predict(X_test_sd)[:, 1]\n",
    "print(\"Test R2 :\",r2_score(y_test[:, 1], y_test_pred1))"
   ]
  },
  {
   "cell_type": "markdown",
   "metadata": {},
   "source": [
    "(d) Use the design parameters that you chose in the first part and train a neural network, but this time set early-stopping=True."
   ]
  },
  {
   "cell_type": "code",
   "execution_count": 116,
   "metadata": {},
   "outputs": [],
   "source": [
    "regr = MLPRegressor(hidden_layer_sizes=100, activation='relu',\n",
    "                    solver='adam', batch_size=200, alpha=0.0001,\n",
    "                    learning_rate='constant', learning_rate_init=0.001,\n",
    "                    random_state=2, max_iter=2000, verbose=False, \n",
    "                    n_iter_no_change=15, early_stopping=True, \n",
    "                    validation_fraction=0.1, tol=1e-5)\n",
    "regr.fit(X_train_sd, y_train);"
   ]
  },
  {
   "cell_type": "code",
   "execution_count": 117,
   "metadata": {},
   "outputs": [
    {
     "name": "stdout",
     "output_type": "stream",
     "text": [
      "Results for motor_UPDRS:\n",
      "Training R2 : 0.6925977384852824\n",
      "Test R2 : 0.6411714212494166\n"
     ]
    }
   ],
   "source": [
    "# motor_UPDRS\n",
    "print(\"Results for motor_UPDRS:\")\n",
    "y_train_pred0 = regr.predict(X_train_sd)[:, 0]\n",
    "print(\"Training R2 :\", r2_score(y_train[:, 0], y_train_pred0))\n",
    "y_test_pred0 = regr.predict(X_test_sd)[:, 0]\n",
    "print(\"Test R2 :\",r2_score(y_test[:, 0], y_test_pred0))"
   ]
  },
  {
   "cell_type": "code",
   "execution_count": 118,
   "metadata": {},
   "outputs": [
    {
     "name": "stdout",
     "output_type": "stream",
     "text": [
      "Results for total_UPDRS:\n",
      "Training R2 : 0.6816609468761714\n",
      "Test R2 : 0.6190416660988958\n"
     ]
    }
   ],
   "source": [
    "# total_UPDRS\n",
    "print(\"Results for total_UPDRS:\")\n",
    "y_train_pred1 = regr.predict(X_train_sd)[:, 1]\n",
    "print(\"Training R2 :\", r2_score(y_train[:, 1], y_train_pred1))\n",
    "y_test_pred1 = regr.predict(X_test_sd)[:, 1]\n",
    "print(\"Test R2 :\",r2_score(y_test[:, 1], y_test_pred1))"
   ]
  }
 ],
 "metadata": {
  "kernelspec": {
   "display_name": "Python 3.9.12 ('torchenv')",
   "language": "python",
   "name": "python3"
  },
  "language_info": {
   "codemirror_mode": {
    "name": "ipython",
    "version": 3
   },
   "file_extension": ".py",
   "mimetype": "text/x-python",
   "name": "python",
   "nbconvert_exporter": "python",
   "pygments_lexer": "ipython3",
   "version": "3.9.12"
  },
  "orig_nbformat": 4,
  "vscode": {
   "interpreter": {
    "hash": "c71e970b376e5910de56d332af36cb508b823811ace826c2f1193ceeb2dcc3e7"
   }
  }
 },
 "nbformat": 4,
 "nbformat_minor": 2
}
